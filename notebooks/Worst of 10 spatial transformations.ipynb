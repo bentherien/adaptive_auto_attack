{
 "cells": [
  {
   "cell_type": "code",
   "execution_count": 2,
   "id": "f78ff487",
   "metadata": {},
   "outputs": [
    {
     "name": "stdout",
     "output_type": "stream",
     "text": [
      "Files already downloaded and verified\n",
      "Files already downloaded and verified\n"
     ]
    }
   ],
   "source": [
    "import torch\n",
    "import torchvision\n",
    "import os \n",
    "import sys\n",
    "sys.path.append('..')\n",
    "from augmentation_tools import (showPoly, get_warped_corners_image, get_valid_affine_range,\n",
    "SSTransformation, square_in_sqare, get_aug_dataset, show_reg_aug_side_by_side,save_im_and_label)\n",
    "\n",
    "\n",
    "from torchvision import transforms\n",
    "\n",
    "data_root = os.environ['DATASET_ROOT']\n",
    "\n",
    "trainset = torchvision.datasets.CIFAR10(root=data_root, train=True, download=True, transform=transforms.ToTensor())\n",
    "train_loader = torch.utils.data.DataLoader(trainset, batch_size=128, shuffle=True)\n",
    "testset = torchvision.datasets.CIFAR10(root=data_root, train=False, download=True, transform=transforms.ToTensor())\n",
    "test_loader = torch.utils.data.DataLoader(testset, batch_size=128, shuffle=False)"
   ]
  },
  {
   "cell_type": "code",
   "execution_count": 3,
   "id": "8716eb6d",
   "metadata": {},
   "outputs": [],
   "source": [
    "it = iter(train_loader)"
   ]
  },
  {
   "cell_type": "code",
   "execution_count": 4,
   "id": "07a0b33a",
   "metadata": {},
   "outputs": [],
   "source": [
    "sample = next(it)"
   ]
  },
  {
   "cell_type": "code",
   "execution_count": 5,
   "id": "edebf5bd",
   "metadata": {},
   "outputs": [
    {
     "data": {
      "text/plain": [
       "torch.Size([128, 3, 32, 32])"
      ]
     },
     "execution_count": 5,
     "metadata": {},
     "output_type": "execute_result"
    }
   ],
   "source": [
    "sample[0].shape"
   ]
  },
  {
   "cell_type": "code",
   "execution_count": 6,
   "id": "8eb68ac7",
   "metadata": {},
   "outputs": [
    {
     "data": {
      "text/plain": [
       "torch.Size([128])"
      ]
     },
     "execution_count": 6,
     "metadata": {},
     "output_type": "execute_result"
    }
   ],
   "source": [
    "sample[1].shape"
   ]
  },
  {
   "cell_type": "code",
   "execution_count": 7,
   "id": "ebe012e6",
   "metadata": {},
   "outputs": [],
   "source": [
    "sst = SSTransformation(max_r=45.,\n",
    "    max_t=30.,\n",
    "    max_s=1.2248,)"
   ]
  },
  {
   "cell_type": "code",
   "execution_count": 8,
   "id": "d6fffe41",
   "metadata": {},
   "outputs": [
    {
     "name": "stderr",
     "output_type": "stream",
     "text": [
      "/home/therien/Documents/github/adaptive_auto_attack/notebooks/../augmentation_tools.py:334: FutureWarning: The input object of type 'Tensor' is an array-like implementing one of the corresponding protocols (`__array__`, `__array_interface__` or `__array_struct__`); but not a sequence (or 0-D). In the future, this object will be coerced as if it was first converted using `np.array(obj)`. To retain the old behaviour, you have to either modify the type 'Tensor', or assign to an empty array created with `np.empty(correct_shape, dtype=object)`.\n",
      "  im = np.asarray(img)\n",
      "/home/therien/Documents/github/adaptive_auto_attack/notebooks/../augmentation_tools.py:334: VisibleDeprecationWarning: Creating an ndarray from ragged nested sequences (which is a list-or-tuple of lists-or-tuples-or ndarrays with different lengths or shapes) is deprecated. If you meant to do this, you must specify 'dtype=object' when creating the ndarray.\n",
      "  im = np.asarray(img)\n"
     ]
    },
    {
     "ename": "NotImplementedError",
     "evalue": "Invalid image shape: (2,).",
     "output_type": "error",
     "traceback": [
      "\u001b[0;31m---------------------------------------------------------------------------\u001b[0m",
      "\u001b[0;31mNotImplementedError\u001b[0m                       Traceback (most recent call last)",
      "Input \u001b[0;32mIn [8]\u001b[0m, in \u001b[0;36m<cell line: 1>\u001b[0;34m()\u001b[0m\n\u001b[0;32m----> 1\u001b[0m \u001b[43msst\u001b[49m\u001b[43m(\u001b[49m\u001b[43msample\u001b[49m\u001b[43m)\u001b[49m\n",
      "File \u001b[0;32m~/Documents/github/adaptive_auto_attack/notebooks/../augmentation_tools.py:316\u001b[0m, in \u001b[0;36mSSTransformation.__call__\u001b[0;34m(self, img)\u001b[0m\n\u001b[1;32m    310\u001b[0m \u001b[38;5;28;01mdef\u001b[39;00m \u001b[38;5;21m__call__\u001b[39m(\u001b[38;5;28mself\u001b[39m, img):\n\u001b[1;32m    311\u001b[0m     \u001b[38;5;124;03m\"\"\"Applies an affine transformation to the image\u001b[39;00m\n\u001b[1;32m    312\u001b[0m \u001b[38;5;124;03m    \u001b[39;00m\n\u001b[1;32m    313\u001b[0m \u001b[38;5;124;03m    params:\u001b[39;00m\n\u001b[1;32m    314\u001b[0m \u001b[38;5;124;03m        img (PIL.Image)    : input image\u001b[39;00m\n\u001b[1;32m    315\u001b[0m \u001b[38;5;124;03m    \"\"\"\u001b[39;00m\n\u001b[0;32m--> 316\u001b[0m     \u001b[38;5;28;01mreturn\u001b[39;00m \u001b[38;5;28;43mself\u001b[39;49m\u001b[38;5;241;43m.\u001b[39;49m\u001b[43maffine_\u001b[49m\u001b[43m(\u001b[49m\u001b[43mimg\u001b[49m\u001b[43m)\u001b[49m\n",
      "File \u001b[0;32m~/Documents/github/adaptive_auto_attack/notebooks/../augmentation_tools.py:343\u001b[0m, in \u001b[0;36mSSTransformation.affine_\u001b[0;34m(self, img)\u001b[0m\n\u001b[1;32m    341\u001b[0m     c \u001b[38;5;241m=\u001b[39m \u001b[38;5;241m1\u001b[39m\n\u001b[1;32m    342\u001b[0m \u001b[38;5;28;01melse\u001b[39;00m:\n\u001b[0;32m--> 343\u001b[0m     \u001b[38;5;28;01mraise\u001b[39;00m \u001b[38;5;167;01mNotImplementedError\u001b[39;00m(\u001b[38;5;124m\"\u001b[39m\u001b[38;5;124mInvalid image shape: \u001b[39m\u001b[38;5;132;01m{}\u001b[39;00m\u001b[38;5;124m.\u001b[39m\u001b[38;5;124m\"\u001b[39m\u001b[38;5;241m.\u001b[39mformat(im\u001b[38;5;241m.\u001b[39mshape))\n\u001b[1;32m    345\u001b[0m \u001b[38;5;28;01mif\u001b[39;00m c \u001b[38;5;241m==\u001b[39m \u001b[38;5;241m1\u001b[39m:\n\u001b[1;32m    346\u001b[0m     fill \u001b[38;5;241m=\u001b[39m (\u001b[38;5;241m0\u001b[39m,)\n",
      "\u001b[0;31mNotImplementedError\u001b[0m: Invalid image shape: (2,)."
     ]
    }
   ],
   "source": [
    "sst(sample)"
   ]
  },
  {
   "cell_type": "code",
   "execution_count": null,
   "id": "57730c32",
   "metadata": {},
   "outputs": [],
   "source": []
  }
 ],
 "metadata": {
  "kernelspec": {
   "display_name": "Python 3 (ipykernel)",
   "language": "python",
   "name": "python3"
  },
  "language_info": {
   "codemirror_mode": {
    "name": "ipython",
    "version": 3
   },
   "file_extension": ".py",
   "mimetype": "text/x-python",
   "name": "python",
   "nbconvert_exporter": "python",
   "pygments_lexer": "ipython3",
   "version": "3.8.10"
  }
 },
 "nbformat": 4,
 "nbformat_minor": 5
}
