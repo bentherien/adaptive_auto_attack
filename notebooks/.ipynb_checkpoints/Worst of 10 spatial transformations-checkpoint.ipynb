{
 "cells": [
  {
   "cell_type": "code",
   "execution_count": 6,
   "id": "78f83012",
   "metadata": {},
   "outputs": [
    {
     "name": "stdout",
     "output_type": "stream",
     "text": [
      "Files already downloaded and verified\n",
      "Files already downloaded and verified\n"
     ]
    }
   ],
   "source": [
    "import torch\n",
    "import torchvision\n",
    "import os \n",
    "import sys\n",
    "sys.append('..')\n",
    "from augmentation_tools import (showPoly, get_warped_corners_image, get_valid_affine_range,\n",
    "SSTransformation, square_in_sqare, get_aug_dataset, show_reg_aug_side_by_side,save_im_and_label)\n",
    "\n",
    "\n",
    "from torchvision import transforms\n",
    "\n",
    "data_root = os.environ['DATASET_ROOT']\n",
    "\n",
    "trainset = torchvision.datasets.CIFAR10(root=data_root, train=True, download=True, transform=transforms.ToTensor())\n",
    "train_loader = torch.utils.data.DataLoader(trainset, batch_size=128, shuffle=True)\n",
    "testset = torchvision.datasets.CIFAR10(root=data_root, train=False, download=True, transform=transforms.ToTensor())\n",
    "test_loader = torch.utils.data.DataLoader(testset, batch_size=128, shuffle=False)"
   ]
  },
  {
   "cell_type": "code",
   "execution_count": 8,
   "id": "939fc136",
   "metadata": {},
   "outputs": [],
   "source": [
    "it = iter(train_loader)"
   ]
  },
  {
   "cell_type": "code",
   "execution_count": 9,
   "id": "76f5164f",
   "metadata": {},
   "outputs": [],
   "source": [
    "sample = next(it)"
   ]
  },
  {
   "cell_type": "code",
   "execution_count": 12,
   "id": "fc46651c",
   "metadata": {},
   "outputs": [
    {
     "data": {
      "text/plain": [
       "torch.Size([128, 3, 32, 32])"
      ]
     },
     "execution_count": 12,
     "metadata": {},
     "output_type": "execute_result"
    }
   ],
   "source": [
    "sample[0].shape"
   ]
  },
  {
   "cell_type": "code",
   "execution_count": 13,
   "id": "4fded052",
   "metadata": {},
   "outputs": [
    {
     "data": {
      "text/plain": [
       "torch.Size([128])"
      ]
     },
     "execution_count": 13,
     "metadata": {},
     "output_type": "execute_result"
    }
   ],
   "source": [
    "sample[1].shape"
   ]
  },
  {
   "cell_type": "code",
   "execution_count": null,
   "id": "0275bf20",
   "metadata": {},
   "outputs": [],
   "source": [
    "a = sstransformation=dict(max_r=45.,\n",
    "    max_t=30.,\n",
    "    max_s=1.2248,)"
   ]
  }
 ],
 "metadata": {
  "kernelspec": {
   "display_name": "Python 3 (ipykernel)",
   "language": "python",
   "name": "python3"
  },
  "language_info": {
   "codemirror_mode": {
    "name": "ipython",
    "version": 3
   },
   "file_extension": ".py",
   "mimetype": "text/x-python",
   "name": "python",
   "nbconvert_exporter": "python",
   "pygments_lexer": "ipython3",
   "version": "3.8.10"
  }
 },
 "nbformat": 4,
 "nbformat_minor": 5
}
